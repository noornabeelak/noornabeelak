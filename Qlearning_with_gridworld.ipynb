{
  "nbformat": 4,
  "nbformat_minor": 0,
  "metadata": {
    "colab": {
      "provenance": [],
      "include_colab_link": true
    },
    "kernelspec": {
      "name": "python3",
      "display_name": "Python 3"
    },
    "language_info": {
      "name": "python"
    }
  },
  "cells": [
    {
      "cell_type": "markdown",
      "metadata": {
        "id": "view-in-github",
        "colab_type": "text"
      },
      "source": [
        "<a href=\"https://colab.research.google.com/github/noornabeelak/noornabeelak/blob/main/Qlearning_with_gridworld.ipynb\" target=\"_parent\"><img src=\"https://colab.research.google.com/assets/colab-badge.svg\" alt=\"Open In Colab\"/></a>"
      ]
    },
    {
      "cell_type": "markdown",
      "source": [
        "#Introduction to Q-Learning: Solving Gridworld"
      ],
      "metadata": {
        "id": "r-W4Hr2RZvAY"
      }
    },
    {
      "cell_type": "markdown",
      "source": [
        "#Objective\n",
        "This notebook will focus on defining the Q-learning algorithm, implementing it, and visualizing how the agent learns the optimal policy."
      ],
      "metadata": {
        "id": "nSmll0ATZoAw"
      }
    },
    {
      "cell_type": "markdown",
      "source": [
        "Sections Outline:\n",
        "Introduction to Q-Learning:\n",
        "\n",
        "- Brief explanation of Q-learning, states, actions, rewards, and Q-values.\n",
        "\n",
        "Overview of the environment (Gridworld).\n",
        "\n",
        "Setup:\n",
        "\n",
        "Install necessary libraries.\n",
        "\n",
        "- `!pip install numpy matplotlib`\n",
        "\n",
        "Import the necessary modules.\n",
        "\n",
        "\n",
        "```\n",
        "import numpy as np\n",
        "import matplotlib.pyplot as plt\n",
        "from IPython.display import clear_output\n",
        "import time\n",
        "\n",
        "```\n",
        "\n",
        "\n",
        "Define the Gridworld Environment:\n",
        "\n",
        "- Create a simple grid environment where the agent can move up, down, left, or right.\n",
        "- Include obstacles and a goal state.\n",
        "\n",
        "Implement Q-Learning:\n",
        "\n",
        "- Initialize the Q-table for storing state-action values.\n",
        "- Implement the Q-learning algorithm, covering concepts like:\n",
        "- Exploration vs. Exploitation (ε-greedy strategy).\n",
        "\n",
        "Q-value update rule:\n",
        "\n",
        "- Parameters: learning rate (α), discount factor (γ), exploration rate (ε).\n",
        "Training the Agent:\n",
        "\n",
        "- Write a loop to train the agent for a fixed number of episodes.\n",
        "Print the Q-table at intervals to show the learning process.\n",
        "\n",
        "Visualizing the Policy:\n",
        "\n",
        "- After training, visualize the policy the agent has learned by plotting the arrows in the grid showing the best action from each state.\n",
        "\n",
        "Experimentation:\n",
        "\n",
        "- Try to modify parameters (α, γ, ε) to see how learning changes.\n",
        "Discuss the limitations of Q-learning in more complex environments.\n"
      ],
      "metadata": {
        "id": "AfLkj3uBaJdO"
      }
    },
    {
      "cell_type": "code",
      "source": [
        "# Install necessary libraries (if not already installed)\n",
        "!pip install numpy matplotlib"
      ],
      "metadata": {
        "colab": {
          "base_uri": "https://localhost:8080/"
        },
        "id": "bfHzA9NIY97s",
        "outputId": "2469a6ca-7a2c-4c67-b8e6-d0e3a1f267ca"
      },
      "execution_count": null,
      "outputs": [
        {
          "output_type": "stream",
          "name": "stdout",
          "text": [
            "Requirement already satisfied: numpy in /usr/local/lib/python3.10/dist-packages (1.26.4)\n",
            "Requirement already satisfied: matplotlib in /usr/local/lib/python3.10/dist-packages (3.7.1)\n",
            "Requirement already satisfied: contourpy>=1.0.1 in /usr/local/lib/python3.10/dist-packages (from matplotlib) (1.3.0)\n",
            "Requirement already satisfied: cycler>=0.10 in /usr/local/lib/python3.10/dist-packages (from matplotlib) (0.12.1)\n",
            "Requirement already satisfied: fonttools>=4.22.0 in /usr/local/lib/python3.10/dist-packages (from matplotlib) (4.54.1)\n",
            "Requirement already satisfied: kiwisolver>=1.0.1 in /usr/local/lib/python3.10/dist-packages (from matplotlib) (1.4.7)\n",
            "Requirement already satisfied: packaging>=20.0 in /usr/local/lib/python3.10/dist-packages (from matplotlib) (24.1)\n",
            "Requirement already satisfied: pillow>=6.2.0 in /usr/local/lib/python3.10/dist-packages (from matplotlib) (10.4.0)\n",
            "Requirement already satisfied: pyparsing>=2.3.1 in /usr/local/lib/python3.10/dist-packages (from matplotlib) (3.1.4)\n",
            "Requirement already satisfied: python-dateutil>=2.7 in /usr/local/lib/python3.10/dist-packages (from matplotlib) (2.8.2)\n",
            "Requirement already satisfied: six>=1.5 in /usr/local/lib/python3.10/dist-packages (from python-dateutil>=2.7->matplotlib) (1.16.0)\n"
          ]
        }
      ]
    },
    {
      "cell_type": "code",
      "source": [
        "# Import required libraries\n",
        "import numpy as np\n",
        "import matplotlib.pyplot as plt\n",
        "from IPython.display import clear_output\n",
        "import time"
      ],
      "metadata": {
        "id": "mH4yx5ySZBn6"
      },
      "execution_count": 1,
      "outputs": []
    },
    {
      "cell_type": "code",
      "execution_count": null,
      "metadata": {
        "colab": {
          "base_uri": "https://localhost:8080/",
          "height": 650
        },
        "id": "NJOtkDO1YqCk",
        "outputId": "4d125550-cb54-463d-eb9a-367f37306351"
      },
      "outputs": [
        {
          "output_type": "stream",
          "name": "stdout",
          "text": [
            "Episode: 500/500, Epsilon: 0.10\n",
            "Learned Policy:\n",
            "→ → → ↓ ↓\n",
            "→ → → ↓ ↓\n",
            "↓ ↓ X → ↓\n",
            "→ → ↓ X ↓\n",
            "→ → → → G\n"
          ]
        },
        {
          "output_type": "display_data",
          "data": {
            "text/plain": [
              "<Figure size 600x600 with 1 Axes>"
            ],
            "image/png": "[encoded data removed]"
          },
          "metadata": {}
        }
      ],
      "source": [
        "# Define the Gridworld environment\n",
        "class GridWorld:\n",
        "    def __init__(self, grid_size=(5, 5), start=(0, 0), goal=(4, 4), obstacles=[]):\n",
        "        self.grid_size = grid_size\n",
        "        self.start = start\n",
        "        self.goal = goal\n",
        "        self.obstacles = obstacles\n",
        "        self.reset()\n",
        "\n",
        "    def reset(self):\n",
        "        self.agent_pos = self.start\n",
        "        return self.agent_pos\n",
        "\n",
        "    def step(self, action):\n",
        "        # Define possible actions: 0 = up, 1 = right, 2 = down, 3 = left\n",
        "        moves = [(-1, 0), (0, 1), (1, 0), (0, -1)]\n",
        "        next_pos = (self.agent_pos[0] + moves[action][0], self.agent_pos[1] + moves[action][1])\n",
        "\n",
        "        # Check boundaries\n",
        "        if (0 <= next_pos[0] < self.grid_size[0] and 0 <= next_pos[1] < self.grid_size[1]) and next_pos not in self.obstacles:\n",
        "            self.agent_pos = next_pos\n",
        "\n",
        "        # Check if goal is reached\n",
        "        if self.agent_pos == self.goal:\n",
        "            return self.agent_pos, 1, True  # reward = 1, done = True\n",
        "        else:\n",
        "            return self.agent_pos, -0.1, False  # small penalty to encourage shortest path\n",
        "\n",
        "    def is_done(self):\n",
        "        return self.agent_pos == self.goal\n",
        "\n",
        "# Q-learning parameters\n",
        "alpha = 0.1        # Learning rate\n",
        "gamma = 0.9        # Discount factor\n",
        "epsilon = 1.0      # Exploration rate\n",
        "epsilon_min = 0.1  # Minimum exploration rate\n",
        "epsilon_decay = 0.99  # Decay rate for exploration probability\n",
        "\n",
        "# Initialize the environment\n",
        "env = GridWorld(grid_size=(5, 5), start=(0, 0), goal=(4, 4), obstacles=[(2, 2), (3, 3)])\n",
        "q_table = np.zeros(env.grid_size + (4,))  # Q-table with 4 actions (up, right, down, left)\n",
        "\n",
        "# Q-learning algorithm\n",
        "def q_learning(env, num_episodes=500):\n",
        "    global epsilon\n",
        "    for episode in range(num_episodes):\n",
        "        state = env.reset()\n",
        "        done = False\n",
        "\n",
        "        while not done:\n",
        "            # Choose action using epsilon-greedy strategy\n",
        "            if np.random.uniform(0, 1) < epsilon:\n",
        "                action = np.random.choice(4)  # Random action\n",
        "            else:\n",
        "                action = np.argmax(q_table[state])  # Greedy action from Q-table\n",
        "\n",
        "            # Take action, get next state and reward\n",
        "            next_state, reward, done = env.step(action)\n",
        "\n",
        "            # Q-value update\n",
        "            best_next_action = np.argmax(q_table[next_state])\n",
        "            q_table[state][action] += alpha * (reward + gamma * q_table[next_state][best_next_action] - q_table[state][action])\n",
        "\n",
        "            # Move to next state\n",
        "            state = next_state\n",
        "\n",
        "        # Decay epsilon to reduce exploration over time\n",
        "        epsilon = max(epsilon_min, epsilon * epsilon_decay)\n",
        "\n",
        "        # Optional: Display progress\n",
        "        if (episode + 1) % 100 == 0:\n",
        "            clear_output(wait=True)\n",
        "            print(f'Episode: {episode + 1}/{num_episodes}, Epsilon: {epsilon:.2f}')\n",
        "\n",
        "# Visualize the learned policy\n",
        "def visualize_policy(env):\n",
        "    policy_grid = np.zeros(env.grid_size, dtype=str)\n",
        "    action_symbols = ['↑', '→', '↓', '←']\n",
        "\n",
        "    for i in range(env.grid_size[0]):\n",
        "        for j in range(env.grid_size[1]):\n",
        "            if (i, j) == env.goal:\n",
        "                policy_grid[i, j] = 'G'  # Goal\n",
        "            elif (i, j) in env.obstacles:\n",
        "                policy_grid[i, j] = 'X'  # Obstacle\n",
        "            else:\n",
        "                best_action = np.argmax(q_table[(i, j)])\n",
        "                policy_grid[i, j] = action_symbols[best_action]\n",
        "\n",
        "    print('Learned Policy:')\n",
        "    for row in policy_grid:\n",
        "        print(' '.join(row))\n",
        "\n",
        "# Training the agent\n",
        "q_learning(env, num_episodes=500)\n",
        "\n",
        "# Visualizing the learned policy\n",
        "visualize_policy(env)\n",
        "\n",
        "# Plotting the Q-values for each state\n",
        "def plot_q_values():\n",
        "    fig, ax = plt.subplots(figsize=(6, 6))\n",
        "    for i in range(env.grid_size[0]):\n",
        "        for j in range(env.grid_size[1]):\n",
        "            if (i, j) != env.goal and (i, j) not in env.obstacles:\n",
        "                for action in range(4):\n",
        "                    ax.text(j + 0.5, i + 0.5, f'{q_table[i, j, action]:.2f}',\n",
        "                            ha='center', va='center', color='blue', fontsize=8)\n",
        "\n",
        "    # Drawing grid\n",
        "    ax.set_xticks(np.arange(0, env.grid_size[1] + 1))\n",
        "    ax.set_yticks(np.arange(0, env.grid_size[0] + 1))\n",
        "    ax.grid(True)\n",
        "    ax.invert_yaxis()\n",
        "    plt.show()\n",
        "\n",
        "plot_q_values()\n"
      ]
    },
    {
      "cell_type": "markdown",
      "source": [
        "#For further exploration\n",
        "\n",
        "Next Steps:\n",
        "\n",
        "- Experiment: Modify the parameters (alpha, gamma, epsilon) and observe changes in the learned policy.\n",
        "- Add Obstacles: Change the obstacles parameter in the GridWorld initialization to see how the agent navigates around them.\n",
        "- Extend the Environment: Create larger grids or different reward structures to explore more complex policies."
      ],
      "metadata": {
        "id": "lEyvNi10ZRli"
      }
    },
    {
      "cell_type": "code",
      "source": [],
      "metadata": {
        "id": "EjRI358pZTu_"
      },
      "execution_count": null,
      "outputs": []
    }
  ]
}